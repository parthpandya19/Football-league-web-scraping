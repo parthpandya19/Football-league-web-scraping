{
 "cells": [
  {
   "cell_type": "code",
   "execution_count": 2,
   "metadata": {},
   "outputs": [],
   "source": [
    "import pandas as pd\n",
    "import numpy as np\n",
    "from bs4 import BeautifulSoup\n",
    "import warnings\n",
    "warnings.filterwarnings('ignore')"
   ]
  },
  {
   "cell_type": "code",
   "execution_count": 3,
   "metadata": {},
   "outputs": [],
   "source": [
    "import requests\n",
    "\n",
    "url = 'https://www.transfermarkt.com/bundesliga/startseite/wettbewerb/L1/plus/?saison_id=2018'\n",
    "headers = {\"User-Agent\":\"Mozilla/5.0\"}\n",
    "#serves to simulate a real user to avoid failed responses\n",
    "response = requests.get(url, headers=headers, verify=False)\n",
    "\n",
    "soup = BeautifulSoup(response.text,'html.parser')"
   ]
  },
  {
   "cell_type": "markdown",
   "metadata": {},
   "source": [
    "* The page is parsed in the soup element"
   ]
  },
  {
   "cell_type": "code",
   "execution_count": 4,
   "metadata": {},
   "outputs": [
    {
     "data": {
      "text/plain": [
       "<tr class=\"odd\">\n",
       "<td class=\"zentriert no-border-rechts\"><a class=\"vereinprofil_tooltip\" href=\"/fc-bayern-munchen/startseite/verein/27/saison_id/2018\"><img alt=\"Bayern Munich\" class=\"tiny_wappen\" src=\"https://tmssl.akamaized.net//images/wappen/tiny/27.png?lm=1498251238\" title=\" \"/></a></td><td class=\"hauptlink no-border-links hide-for-small hide-for-pad\"><a class=\"vereinprofil_tooltip\" href=\"/fc-bayern-munchen/startseite/verein/27/saison_id/2018\" id=\"27\">Bayern Munich</a> <a href=\"#\"><img alt=\"German Champion 17/18\" class=\"tabelle-erfolg\" src=\"https://tmssl.akamaized.net//images/erfolge/mini/10.png?lm=1520606996\" title=\"German Champion 17/18\"/></a></td><td class=\"hauptlink no-border-links show-for-small show-for-pad\"><a class=\"vereinprofil_tooltip\" href=\"/fc-bayern-munchen/startseite/verein/27/saison_id/2018\" id=\"27\">Bayern Munich </a></td><td class=\"zentriert\"><a href=\"/bayern-munich/kader/verein/27/saison_id/2018\" title=\"Bayern Munich\">32</a></td><td class=\"zentriert hide-for-small hide-for-pad\">24,7</td><td class=\"zentriert hide-for-pad hide-for-small\">15</td><td class=\"rechts hide-for-small hide-for-pad\"><a href=\"/bayern-munich/kader/verein/27/saison_id/2018\" title=\"Bayern Munich\">835,55 mil. €</a></td><td class=\"rechts hide-for-small hide-for-pad\">26,11 mil. €</td><td class=\"rechts show-for-small show-for-pad nowrap\"><a href=\"/bayern-munich/kader/verein/27/saison_id/2018\" title=\"Bayern Munich\">835,55 mil. €</a></td><td class=\"rechts show-for-small show-for-pad nowrap\">26,11 mil. €</td></tr>"
      ]
     },
     "execution_count": 4,
     "metadata": {},
     "output_type": "execute_result"
    }
   ],
   "source": [
    "table = soup.find('table',{'class':'items'}) #extracting table\n",
    "\n",
    "row = table.findAll('tr') #extracting every single row\n",
    "\n",
    "len(row)\n",
    "row[2] #club Bayern MUnich"
   ]
  },
  {
   "cell_type": "code",
   "execution_count": 5,
   "metadata": {},
   "outputs": [
    {
     "data": {
      "text/plain": [
       "'\\nBayern Munich Bayern Munich 3224,715835,55 mil. €26,11 mil. €835,55 mil. €26,11 mil. €'"
      ]
     },
     "execution_count": 5,
     "metadata": {},
     "output_type": "execute_result"
    }
   ],
   "source": [
    "row[2].text #gives the output in more readable format\n"
   ]
  },
  {
   "cell_type": "code",
   "execution_count": 6,
   "metadata": {},
   "outputs": [
    {
     "data": {
      "text/plain": [
       "'835,55 mil. €'"
      ]
     },
     "execution_count": 6,
     "metadata": {},
     "output_type": "execute_result"
    }
   ],
   "source": [
    "#extracting desored fields like name of the club, average age, Squad, no. of foreigners, market value\n",
    "row[2].findAll('td')[1].text  \n",
    "row[2].findAll('td')[3].text\n",
    "row[2].findAll('td')[4].text\n",
    "row[2].findAll('td')[5].text\n",
    "row[2].findAll('td')[6].text"
   ]
  },
  {
   "cell_type": "markdown",
   "metadata": {},
   "source": [
    "## Creating our dataframe"
   ]
  },
  {
   "cell_type": "code",
   "execution_count": 7,
   "metadata": {},
   "outputs": [],
   "source": [
    "team=[]\n",
    "squad=[]\n",
    "age=[]\n",
    "foreigners=[]\n",
    "total_market_value=[]\n",
    "avergae_market_value=[]\n",
    "\n",
    "for row in table.findAll('tr'):\n",
    "    try:\n",
    "        col=row.findAll('td')\n",
    "        team.append(col[2].text)\n",
    "        squad.append(col[3].text)\n",
    "        age.append(col[4].text)\n",
    "        foreigners.append(col[5].text)\n",
    "        total_market_value.append(col[6].text)\n",
    "        avergae_market_value.append(col[7].text)\n",
    "    except:\n",
    "        pass\n",
    "    \n",
    "        "
   ]
  },
  {
   "cell_type": "code",
   "execution_count": 8,
   "metadata": {},
   "outputs": [],
   "source": [
    "df_bundesliga = pd.DataFrame({'Team':team[1:],\n",
    "                             'Squad':squad[1:],\n",
    "                             'Age':age[1:],\n",
    "                             'Foreigners':foreigners[1:],\n",
    "                             'Total Value':total_market_value[1:],\n",
    "                             'Average Value':avergae_market_value[1:]}\n",
    "                            )"
   ]
  },
  {
   "cell_type": "markdown",
   "metadata": {},
   "source": [
    "* we will scrap data more dynamically instead of going through all the hassle of extracting just one table\n",
    "# Scraping top 10 leagues over of the peroid of 7 years"
   ]
  },
  {
   "cell_type": "code",
   "execution_count": 9,
   "metadata": {},
   "outputs": [],
   "source": [
    "\n",
    "dct_bl = {}\n",
    "dct_pl = {}\n",
    "dct_seriea = {}\n",
    "dct_laliga = {}\n",
    "dct_ligue1 = {}\n",
    "dct_russia = {}\n",
    "dct_portugal = {}\n",
    "dct_ukraine = {}\n",
    "dct_turkey = {}\n",
    "dct_belgium = {}\n",
    "\n",
    "\n",
    "for m in range(2012,2019):\n",
    "    dct_bl['df_bl_%s' % m] = pd.DataFrame()\n",
    "    dct_pl['df_pl_%s' % m] = pd.DataFrame()\n",
    "    dct_seriea['df_seriea_%s' % m] = pd.DataFrame()\n",
    "    dct_laliga['df_laliga_%s' % m] = pd.DataFrame()\n",
    "    dct_ligue1['df_ligue1_%s' % m] = pd.DataFrame()\n",
    "    dct_russia['df_russia_%s' % m] = pd.DataFrame()\n",
    "    dct_portugal['df_portugal_%s' % m] = pd.DataFrame()\n",
    "    dct_ukraine['df_ukraine_%s' % m] = pd.DataFrame()\n",
    "    dct_turkey['df_turkey_%s' % m] = pd.DataFrame()\n",
    "    dct_belgium['df_belgium_%s' % m] = pd.DataFrame()"
   ]
  },
  {
   "cell_type": "code",
   "execution_count": 10,
   "metadata": {},
   "outputs": [],
   "source": [
    "#getting urls for each league \n",
    "\n",
    "#List with our needed URLs for each league\n",
    "league_urls = (['https://www.transfermarkt.com/bundesliga/startseite/wettbewerb/L1/plus/?saison_id=',\n",
    "               'https://www.transfermarkt.com/premier-league/startseite/wettbewerb/GB1/plus/?saison_id=',\n",
    "               'https://www.transfermarkt.com/serie-a/startseite/wettbewerb/IT1/plus/?saison_id=',\n",
    "               'https://www.transfermarkt.com/laliga/startseite/wettbewerb/ES1/plus/?saison_id=',\n",
    "               'https://www.transfermarkt.com/ligue-1/startseite/wettbewerb/FR1/plus/?saison_id=',\n",
    "               'https://www.transfermarkt.com/premier-liga/startseite/wettbewerb/RU1/plus/?saison_id=',\n",
    "                'https://www.transfermarkt.com/liga-nos/startseite/wettbewerb/PO1/plus/?saison_id=',\n",
    "                'https://www.transfermarkt.com/premier-liga/startseite/wettbewerb/UKR1/plus/?saison_id=',\n",
    "                'https://www.transfermarkt.com/super-lig/startseite/wettbewerb/TR1/plus/?saison_id=',\n",
    "                'https://www.transfermarkt.com/jupiler-pro-league/startseite/wettbewerb/BE1/plus/?saison_id='])"
   ]
  },
  {
   "cell_type": "code",
   "execution_count": 38,
   "metadata": {},
   "outputs": [],
   "source": [
    "#we will create one to loop through each url\n",
    "#another loop to scrap data for each year\n",
    "import time\n",
    "\n",
    "for l in range(0,len(league_urls)):\n",
    "    time.sleep(2)\n",
    "    #second loop for years \n",
    "    for n in range(2012,2019):\n",
    "        time.sleep(3)\n",
    "        df_soccer1 = None\n",
    "        url = league_urls[l] +str(n)\n",
    "        headers = {\"User-Agent\":\"Mozilla/5.0\"}\n",
    "        response = requests.get(url,headers=headers, verify =False)\n",
    "        time.sleep(3)\n",
    "        \n",
    "        soup=BeautifulSoup(response.text,'html.parser') #creating table\n",
    "        table=soup.find('table',{'class':'items'})\n",
    "        \n",
    "        team=[]\n",
    "        squad = []\n",
    "        age = []\n",
    "        foreigners = []\n",
    "        total_market_value = []\n",
    "        average_market_value = []\n",
    "        \n",
    "        for row in table.findAll('tr'):\n",
    "            try:\n",
    "                \n",
    "                col=row.findAll('td')\n",
    "                team.append(col[2].text)\n",
    "                squad.append(col[3].text)\n",
    "                age.append(col[4].text)\n",
    "                foreigners.append(col[5].text)\n",
    "                total_market_value.append(col[6].text)\n",
    "                average_market_value.append(col[7].text)\n",
    "                \n",
    "            except:\n",
    "                pass\n",
    "            \n",
    "        df_soccer1 = pd.DataFrame({\"Team\":team[1:],\"Season\":n,\"Squad\":squad[1:],\"Age\":age[1:],\n",
    "                                    \"Foreigners\":foreigners[1:],\"Total Value\":total_market_value[1:],\n",
    "                                    \"Average Value\": average_market_value[1:]})\n",
    "        \n",
    "\n",
    "        team = [elem.replace('\\n','').replace('\\xa0','').strip() for elem in team]\n",
    "        df_soccer2=None\n",
    "        table2 = soup.findAll(\"div\",{'class':'responsive-table'})\n",
    "\n",
    "        team2 =[]\n",
    "        place =[]\n",
    "        matches=[]\n",
    "        diff=[]\n",
    "        pts=[]\n",
    "\n",
    "        if len(table2) <= 2:\n",
    "            for row in table2[1].findAll('tr'):\n",
    "                try:\n",
    "                    \n",
    "                    col = row.findAll('td')\n",
    "                    team2.append(col[2].text)\n",
    "                    place.append(col[0].text)\n",
    "                    matches.append(col[3].text)\n",
    "                    diff.append(col[4].text)\n",
    "                    pts.append(col[5].text)\n",
    "                except:\n",
    "                    pass\n",
    "        else:\n",
    "                    #Sometimes the information you need is in another table\n",
    "            for row in table2[2].findAll('tr'):\n",
    "                try:\n",
    "                    col = row.findAll('td')\n",
    "                    team2.append(col[2].text)\n",
    "                    place.append(col[0].text)\n",
    "                    matches.append(col[3].text)\n",
    "                    diff.append(col[4].text)\n",
    "                    pts.append(col[5].text)\n",
    "                except:\n",
    "                    pass\n",
    "        team2 = [elem.replace('\\n','').replace('\\xa0','').strip() for elem in team2]\n",
    "\n",
    "        df_soccer2 = pd.DataFrame({'Team': team2, 'Place': place, 'Matches': matches, 'Difference': diff,'Points': pts})\n",
    "        #store all dictionaries\n",
    "        dct_all =[dct_bl,dct_pl,dct_seriea,dct_laliga,dct_ligue1,dct_russia,dct_portugal,dct_ukraine,dct_turkey,dct_belgium]\n",
    "        dct_all[l]['df_bl_%s'%n ]=pd.merge(df_soccer1,df_soccer2,how='inner',left_on='Team',right_on='Team')\n",
    "        \n",
    "\n",
    "       \n",
    "        "
   ]
  },
  {
   "cell_type": "code",
   "execution_count": 39,
   "metadata": {},
   "outputs": [],
   "source": [
    "df_bl_final = pd.concat(dct_bl.values(), ignore_index=True)\n",
    "df_pl_final = pd.concat(dct_pl.values(), ignore_index=True) \n",
    "df_seriea_final = pd.concat(dct_seriea.values(), ignore_index=True)\n",
    "df_laliga_final = pd.concat(dct_laliga.values(), ignore_index=True)\n",
    "df_ligue1_final = pd.concat(dct_ligue1.values(), ignore_index=True)\n",
    "df_russia_final = pd.concat(dct_russia.values(), ignore_index=True)\n",
    "df_portugal_final = pd.concat(dct_portugal.values(), ignore_index=True)\n",
    "df_ukraine_final = pd.concat(dct_ukraine.values(), ignore_index=True)\n",
    "df_turkey_final = pd.concat(dct_turkey.values(), ignore_index=True)\n",
    "df_belgium_final = pd.concat(dct_belgium.values(), ignore_index=True)\n",
    "\n",
    "df_bl_final['Country'] = 'Germany'\n",
    "df_pl_final['Country'] = 'England'\n",
    "df_seriea_final['Country'] = 'Italy'\n",
    "df_laliga_final['Country'] = 'Spain'\n",
    "df_ligue1_final['Country'] = 'France'\n",
    "df_russia_final['Country'] = 'Russia'\n",
    "df_portugal_final['Country'] = 'Portugal'\n",
    "df_ukraine_final['Country'] = 'Ukraine'\n",
    "df_turkey_final['Country'] = 'Turkey'\n",
    "df_belgium_final['Country'] = 'Belgium'\n",
    "\n",
    "df_final = pd.concat([df_bl_final,df_pl_final,df_seriea_final,df_laliga_final,df_ligue1_final,\n",
    "                df_russia_final,df_portugal_final,df_ukraine_final,df_turkey_final,df_belgium_final], ignore_index=True)"
   ]
  },
  {
   "cell_type": "code",
   "execution_count": 40,
   "metadata": {
    "scrolled": true
   },
   "outputs": [
    {
     "data": {
      "text/html": [
       "<div>\n",
       "<style scoped>\n",
       "    .dataframe tbody tr th:only-of-type {\n",
       "        vertical-align: middle;\n",
       "    }\n",
       "\n",
       "    .dataframe tbody tr th {\n",
       "        vertical-align: top;\n",
       "    }\n",
       "\n",
       "    .dataframe thead th {\n",
       "        text-align: right;\n",
       "    }\n",
       "</style>\n",
       "<table border=\"1\" class=\"dataframe\">\n",
       "  <thead>\n",
       "    <tr style=\"text-align: right;\">\n",
       "      <th></th>\n",
       "      <th>Age</th>\n",
       "      <th>Average Value</th>\n",
       "      <th>Foreigners</th>\n",
       "      <th>Season</th>\n",
       "      <th>Squad</th>\n",
       "      <th>Team</th>\n",
       "      <th>Total Value</th>\n",
       "      <th>Difference</th>\n",
       "      <th>Matches</th>\n",
       "      <th>Place</th>\n",
       "      <th>Points</th>\n",
       "      <th>Country</th>\n",
       "    </tr>\n",
       "  </thead>\n",
       "  <tbody>\n",
       "    <tr>\n",
       "      <th>400</th>\n",
       "      <td>24,5</td>\n",
       "      <td>17,98 mil. €</td>\n",
       "      <td>18</td>\n",
       "      <td>2012</td>\n",
       "      <td>33</td>\n",
       "      <td>Real Madrid</td>\n",
       "      <td>593,50 mil. €</td>\n",
       "      <td>61</td>\n",
       "      <td>38</td>\n",
       "      <td>2</td>\n",
       "      <td>85</td>\n",
       "      <td>Spain</td>\n",
       "    </tr>\n",
       "    <tr>\n",
       "      <th>420</th>\n",
       "      <td>24,0</td>\n",
       "      <td>17,84 mil. €</td>\n",
       "      <td>16</td>\n",
       "      <td>2013</td>\n",
       "      <td>34</td>\n",
       "      <td>Real Madrid</td>\n",
       "      <td>606,60 mil. €</td>\n",
       "      <td>66</td>\n",
       "      <td>38</td>\n",
       "      <td>3</td>\n",
       "      <td>87</td>\n",
       "      <td>Spain</td>\n",
       "    </tr>\n",
       "    <tr>\n",
       "      <th>439</th>\n",
       "      <td>23,3</td>\n",
       "      <td>15,80 mil. €</td>\n",
       "      <td>19</td>\n",
       "      <td>2014</td>\n",
       "      <td>41</td>\n",
       "      <td>Real Madrid</td>\n",
       "      <td>647,65 mil. €</td>\n",
       "      <td>80</td>\n",
       "      <td>38</td>\n",
       "      <td>2</td>\n",
       "      <td>92</td>\n",
       "      <td>Spain</td>\n",
       "    </tr>\n",
       "    <tr>\n",
       "      <th>459</th>\n",
       "      <td>23,8</td>\n",
       "      <td>23,35 mil. €</td>\n",
       "      <td>17</td>\n",
       "      <td>2015</td>\n",
       "      <td>30</td>\n",
       "      <td>Real Madrid</td>\n",
       "      <td>700,50 mil. €</td>\n",
       "      <td>76</td>\n",
       "      <td>38</td>\n",
       "      <td>2</td>\n",
       "      <td>90</td>\n",
       "      <td>Spain</td>\n",
       "    </tr>\n",
       "    <tr>\n",
       "      <th>480</th>\n",
       "      <td>24,2</td>\n",
       "      <td>22,52 mil. €</td>\n",
       "      <td>18</td>\n",
       "      <td>2016</td>\n",
       "      <td>33</td>\n",
       "      <td>Real Madrid</td>\n",
       "      <td>743,10 mil. €</td>\n",
       "      <td>65</td>\n",
       "      <td>38</td>\n",
       "      <td>1</td>\n",
       "      <td>93</td>\n",
       "      <td>Spain</td>\n",
       "    </tr>\n",
       "    <tr>\n",
       "      <th>500</th>\n",
       "      <td>23,5</td>\n",
       "      <td>22,38 mil. €</td>\n",
       "      <td>15</td>\n",
       "      <td>2017</td>\n",
       "      <td>32</td>\n",
       "      <td>Real Madrid</td>\n",
       "      <td>716,20 mil. €</td>\n",
       "      <td>50</td>\n",
       "      <td>38</td>\n",
       "      <td>3</td>\n",
       "      <td>76</td>\n",
       "      <td>Spain</td>\n",
       "    </tr>\n",
       "    <tr>\n",
       "      <th>520</th>\n",
       "      <td>23,6</td>\n",
       "      <td>25,84 mil. €</td>\n",
       "      <td>20</td>\n",
       "      <td>2018</td>\n",
       "      <td>42</td>\n",
       "      <td>Real Madrid</td>\n",
       "      <td>1,09 bil. €</td>\n",
       "      <td>17</td>\n",
       "      <td>38</td>\n",
       "      <td>3</td>\n",
       "      <td>68</td>\n",
       "      <td>Spain</td>\n",
       "    </tr>\n",
       "  </tbody>\n",
       "</table>\n",
       "</div>"
      ],
      "text/plain": [
       "      Age Average Value Foreigners  Season Squad         Team    Total Value  \\\n",
       "400  24,5  17,98 mil. €         18    2012    33  Real Madrid  593,50 mil. €   \n",
       "420  24,0  17,84 mil. €         16    2013    34  Real Madrid  606,60 mil. €   \n",
       "439  23,3  15,80 mil. €         19    2014    41  Real Madrid  647,65 mil. €   \n",
       "459  23,8  23,35 mil. €         17    2015    30  Real Madrid  700,50 mil. €   \n",
       "480  24,2  22,52 mil. €         18    2016    33  Real Madrid  743,10 mil. €   \n",
       "500  23,5  22,38 mil. €         15    2017    32  Real Madrid  716,20 mil. €   \n",
       "520  23,6  25,84 mil. €         20    2018    42  Real Madrid    1,09 bil. €   \n",
       "\n",
       "    Difference Matches Place Points Country  \n",
       "400         61      38    2      85   Spain  \n",
       "420         66      38    3      87   Spain  \n",
       "439         80      38    2      92   Spain  \n",
       "459         76      38    2      90   Spain  \n",
       "480         65      38    1      93   Spain  \n",
       "500         50      38    3      76   Spain  \n",
       "520         17      38    3      68   Spain  "
      ]
     },
     "execution_count": 40,
     "metadata": {},
     "output_type": "execute_result"
    }
   ],
   "source": [
    "df_final.loc[df_final['Team'] == 'Bayern Munich']\n",
    "df_final.loc[df_final['Team'] == 'KV Oostende']\n",
    "df_final.loc[df_final['Team'] == 'Real Madrid']"
   ]
  },
  {
   "cell_type": "code",
   "execution_count": 47,
   "metadata": {},
   "outputs": [
    {
     "data": {
      "text/html": [
       "<div>\n",
       "<style scoped>\n",
       "    .dataframe tbody tr th:only-of-type {\n",
       "        vertical-align: middle;\n",
       "    }\n",
       "\n",
       "    .dataframe tbody tr th {\n",
       "        vertical-align: top;\n",
       "    }\n",
       "\n",
       "    .dataframe thead th {\n",
       "        text-align: right;\n",
       "    }\n",
       "</style>\n",
       "<table border=\"1\" class=\"dataframe\">\n",
       "  <thead>\n",
       "    <tr style=\"text-align: right;\">\n",
       "      <th></th>\n",
       "      <th>Team</th>\n",
       "      <th>Season</th>\n",
       "      <th>Squad</th>\n",
       "      <th>Age</th>\n",
       "      <th>Foreigners</th>\n",
       "      <th>Average Value</th>\n",
       "      <th>Total Value</th>\n",
       "      <th>Difference</th>\n",
       "      <th>Matches</th>\n",
       "      <th>Points</th>\n",
       "      <th>Place</th>\n",
       "      <th>Country</th>\n",
       "    </tr>\n",
       "  </thead>\n",
       "  <tbody>\n",
       "    <tr>\n",
       "      <th>0</th>\n",
       "      <td>Bor. Dortmund</td>\n",
       "      <td>2012</td>\n",
       "      <td>29</td>\n",
       "      <td>23,3</td>\n",
       "      <td>10</td>\n",
       "      <td>7,85 mil. €</td>\n",
       "      <td>227,68 mil. €</td>\n",
       "      <td>39</td>\n",
       "      <td>34</td>\n",
       "      <td>66</td>\n",
       "      <td>2</td>\n",
       "      <td>Germany</td>\n",
       "    </tr>\n",
       "    <tr>\n",
       "      <th>1</th>\n",
       "      <td>FC Schalke 04</td>\n",
       "      <td>2012</td>\n",
       "      <td>28</td>\n",
       "      <td>24,3</td>\n",
       "      <td>17</td>\n",
       "      <td>6,11 mil. €</td>\n",
       "      <td>171,00 mil. €</td>\n",
       "      <td>8</td>\n",
       "      <td>34</td>\n",
       "      <td>55</td>\n",
       "      <td>4</td>\n",
       "      <td>Germany</td>\n",
       "    </tr>\n",
       "    <tr>\n",
       "      <th>2</th>\n",
       "      <td>VfL Wolfsburg</td>\n",
       "      <td>2012</td>\n",
       "      <td>34</td>\n",
       "      <td>25,0</td>\n",
       "      <td>25</td>\n",
       "      <td>3,54 mil. €</td>\n",
       "      <td>120,33 mil. €</td>\n",
       "      <td>-5</td>\n",
       "      <td>34</td>\n",
       "      <td>43</td>\n",
       "      <td>11</td>\n",
       "      <td>Germany</td>\n",
       "    </tr>\n",
       "    <tr>\n",
       "      <th>3</th>\n",
       "      <td>Bay. Leverkusen</td>\n",
       "      <td>2012</td>\n",
       "      <td>32</td>\n",
       "      <td>22,8</td>\n",
       "      <td>11</td>\n",
       "      <td>3,62 mil. €</td>\n",
       "      <td>115,90 mil. €</td>\n",
       "      <td>26</td>\n",
       "      <td>34</td>\n",
       "      <td>65</td>\n",
       "      <td>3</td>\n",
       "      <td>Germany</td>\n",
       "    </tr>\n",
       "    <tr>\n",
       "      <th>4</th>\n",
       "      <td>Hamburger SV</td>\n",
       "      <td>2012</td>\n",
       "      <td>28</td>\n",
       "      <td>24,4</td>\n",
       "      <td>17</td>\n",
       "      <td>3,95 mil. €</td>\n",
       "      <td>110,60 mil. €</td>\n",
       "      <td>-11</td>\n",
       "      <td>34</td>\n",
       "      <td>48</td>\n",
       "      <td>7</td>\n",
       "      <td>Germany</td>\n",
       "    </tr>\n",
       "  </tbody>\n",
       "</table>\n",
       "</div>"
      ],
      "text/plain": [
       "              Team  Season Squad   Age Foreigners Average Value  \\\n",
       "0    Bor. Dortmund    2012    29  23,3         10   7,85 mil. €   \n",
       "1    FC Schalke 04    2012    28  24,3         17   6,11 mil. €   \n",
       "2    VfL Wolfsburg    2012    34  25,0         25   3,54 mil. €   \n",
       "3  Bay. Leverkusen    2012    32  22,8         11   3,62 mil. €   \n",
       "4     Hamburger SV    2012    28  24,4         17   3,95 mil. €   \n",
       "\n",
       "     Total Value Difference Matches Points Place  Country  \n",
       "0  227,68 mil. €         39      34     66    2   Germany  \n",
       "1  171,00 mil. €          8      34     55    4   Germany  \n",
       "2  120,33 mil. €         -5      34     43   11   Germany  \n",
       "3  115,90 mil. €         26      34     65    3   Germany  \n",
       "4  110,60 mil. €        -11      34     48    7   Germany  "
      ]
     },
     "execution_count": 47,
     "metadata": {},
     "output_type": "execute_result"
    }
   ],
   "source": [
    "df_final=df_final[['Team','Season','Squad','Age','Foreigners','Average Value','Total Value','Difference','Matches','Points','Place','Country']]\n",
    "df_final.head()"
   ]
  },
  {
   "cell_type": "markdown",
   "metadata": {},
   "source": [
    "* Cleaning strings and removing letters from value fields"
   ]
  },
  {
   "cell_type": "code",
   "execution_count": 64,
   "metadata": {},
   "outputs": [],
   "source": [
    "\n",
    "list_dataframes_conv = (['Average Value','Total Value'])\n",
    "\n",
    "for n in range(0,len(list_dataframes_conv)):\n",
    "    df_final[list_dataframes_conv[n]] = df_final[list_dataframes_conv[n]]. \\\n",
    "    apply(lambda x: (x + \"0\").replace(',','') if \" Bill. €\" in x else x).str.replace(' Bill. €','')\n",
    "    \n",
    "    df_final[list_dataframes_conv[n]] = df_final[list_dataframes_conv[n]]. \\\n",
    "    apply(lambda x: (x + \"0\").replace(',','') if \" bil. €\" in x else x).str.replace(' bil. €','')\n",
    "\n",
    "    df_final[list_dataframes_conv[n]] = df_final[list_dataframes_conv[n]]. \\\n",
    "    apply(lambda x: \"0,\" + x if \" Th. €\" in x else x).str.replace(' Mill. €','').str.replace(' Th. €','').replace(',',np.NaN)\n",
    "    \n",
    "    df_final[list_dataframes_conv[n]] = df_final[list_dataframes_conv[n]]. \\\n",
    "    apply(lambda x: \"0,\" + x if \" Th. €\" in x else x).str.replace(' mil. €','').str.replace(' Th. €','').replace(',',np.NaN)\n",
    "    \n",
    "    df_final[list_dataframes_conv[n]] = df_final[list_dataframes_conv[n]]. \\\n",
    "    apply(lambda x: (\"0\")+ x.replace(',','') if \" thousand €\" in x else x).str.replace(' thousand €','')\n",
    "    \n",
    "    \n",
    "    df_final[list_dataframes_conv[n]] = df_final[list_dataframes_conv[n]].apply(lambda x: x.replace(',','.'))\n",
    "\n",
    "df_final['Age'] = df_final['Age'].apply(lambda x: x.replace(',','.'))"
   ]
  },
  {
   "cell_type": "code",
   "execution_count": 101,
   "metadata": {},
   "outputs": [
    {
     "data": {
      "text/html": [
       "<div>\n",
       "<style scoped>\n",
       "    .dataframe tbody tr th:only-of-type {\n",
       "        vertical-align: middle;\n",
       "    }\n",
       "\n",
       "    .dataframe tbody tr th {\n",
       "        vertical-align: top;\n",
       "    }\n",
       "\n",
       "    .dataframe thead th {\n",
       "        text-align: right;\n",
       "    }\n",
       "</style>\n",
       "<table border=\"1\" class=\"dataframe\">\n",
       "  <thead>\n",
       "    <tr style=\"text-align: right;\">\n",
       "      <th></th>\n",
       "      <th>Average Value</th>\n",
       "    </tr>\n",
       "  </thead>\n",
       "  <tbody>\n",
       "    <tr>\n",
       "      <th>0</th>\n",
       "      <td>7.85</td>\n",
       "    </tr>\n",
       "    <tr>\n",
       "      <th>1</th>\n",
       "      <td>6.11</td>\n",
       "    </tr>\n",
       "    <tr>\n",
       "      <th>2</th>\n",
       "      <td>3.54</td>\n",
       "    </tr>\n",
       "    <tr>\n",
       "      <th>3</th>\n",
       "      <td>3.62</td>\n",
       "    </tr>\n",
       "    <tr>\n",
       "      <th>4</th>\n",
       "      <td>3.95</td>\n",
       "    </tr>\n",
       "  </tbody>\n",
       "</table>\n",
       "</div>"
      ],
      "text/plain": [
       "   Average Value\n",
       "0           7.85\n",
       "1           6.11\n",
       "2           3.54\n",
       "3           3.62\n",
       "4           3.95"
      ]
     },
     "execution_count": 101,
     "metadata": {},
     "output_type": "execute_result"
    }
   ],
   "source": [
    "df_final[['Average Value']].head()"
   ]
  },
  {
   "cell_type": "code",
   "execution_count": 66,
   "metadata": {},
   "outputs": [],
   "source": [
    "df_final[['Squad', 'Age', 'Foreigners', 'Total Value','Average Value', 'Place', 'Matches', 'Difference', 'Points']] = \\\n",
    "df_final[['Squad', 'Age', 'Foreigners', 'Total Value','Average Value', 'Place', 'Matches', 'Difference', 'Points']].astype(float)\n",
    "\n"
   ]
  },
  {
   "cell_type": "code",
   "execution_count": 68,
   "metadata": {},
   "outputs": [],
   "source": [
    "df_final.to_pickle('C:\\\\Users\\\\pandy\\\\OneDrive\\\\Documents\\\\DataScience\\\\df_final.pkl')\n",
    "df_final.to_excel('C:\\\\Users\\\\pandy\\\\OneDrive\\\\Documents\\\\DataScience\\\\df_final.xlsx')"
   ]
  },
  {
   "cell_type": "code",
   "execution_count": 80,
   "metadata": {},
   "outputs": [],
   "source": [
    "mepp_list_avg = []\n",
    "\n",
    "for n in range(2012,2019):\n",
    "    mepp = df_final[df_final['Season'] == n]['Total Value'].mean()\n",
    "    mepp_list_avg.append(mepp)\n",
    "\n",
    "#List with our Years\n",
    "years_l = []\n",
    "for k in range(2012,2019,1):\n",
    "    years_l.append(k)"
   ]
  },
  {
   "cell_type": "code",
   "execution_count": 83,
   "metadata": {},
   "outputs": [
    {
     "data": {
      "text/plain": [
       "[<matplotlib.lines.Line2D at 0x1d462ec46d8>]"
      ]
     },
     "execution_count": 83,
     "metadata": {},
     "output_type": "execute_result"
    },
    {
     "data": {
      "image/png": "[encoded data removed]",
      "text/plain": [
       "<matplotlib.figure.Figure at 0x1d462ccfe80>"
      ]
     },
     "metadata": {},
     "output_type": "display_data"
    }
   ],
   "source": [
    "% matplotlib inline\n",
    "import matplotlib.pyplot as plt\n",
    "\n",
    "plt.plot(years_l,mepp_list_avg,color=\"red\",label=\"Season years vs Value mean in millions\")\n"
   ]
  },
  {
   "cell_type": "markdown",
   "metadata": {},
   "source": [
    "* We will see the correlation between total value of a team and the points to understand if High\n",
    "\n",
    "  value teams have higher points"
   ]
  },
  {
   "cell_type": "code",
   "execution_count": 84,
   "metadata": {},
   "outputs": [
    {
     "data": {
      "text/plain": [
       "0.6549633666362766"
      ]
     },
     "execution_count": 84,
     "metadata": {},
     "output_type": "execute_result"
    }
   ],
   "source": [
    "df_final.corr()['Total Value']['Points']"
   ]
  },
  {
   "cell_type": "markdown",
   "metadata": {},
   "source": [
    "* We will perform a regression to understand more about the impact of squad value on points becuase corrrelation is not causation\n"
   ]
  },
  {
   "cell_type": "code",
   "execution_count": 93,
   "metadata": {},
   "outputs": [],
   "source": [
    "from sklearn import linear_model"
   ]
  },
  {
   "cell_type": "code",
   "execution_count": 98,
   "metadata": {},
   "outputs": [],
   "source": [
    "x= df_final[['Points']]\n",
    "y= df_final[['Total Value']]\n",
    "\n",
    "lm = linear_model.LinearRegression()\n",
    "model = lm.fit(x,y)"
   ]
  },
  {
   "cell_type": "code",
   "execution_count": 99,
   "metadata": {},
   "outputs": [
    {
     "data": {
      "text/plain": [
       "0.42897701163552576"
      ]
     },
     "execution_count": 99,
     "metadata": {},
     "output_type": "execute_result"
    }
   ],
   "source": [
    "lm.score(x,y)"
   ]
  },
  {
   "cell_type": "code",
   "execution_count": 100,
   "metadata": {},
   "outputs": [
    {
     "data": {
      "text/plain": [
       "array([[5.15550492]])"
      ]
     },
     "execution_count": 100,
     "metadata": {},
     "output_type": "execute_result"
    }
   ],
   "source": [
    "lm.coef_"
   ]
  },
  {
   "cell_type": "code",
   "execution_count": 102,
   "metadata": {},
   "outputs": [
    {
     "ename": "SyntaxError",
     "evalue": "invalid syntax (<ipython-input-102-46cbd787b5a9>, line 1)",
     "output_type": "error",
     "traceback": [
      "\u001b[1;36m  File \u001b[1;32m\"<ipython-input-102-46cbd787b5a9>\"\u001b[1;36m, line \u001b[1;32m1\u001b[0m\n\u001b[1;33m    jupyter notebook list\u001b[0m\n\u001b[1;37m                   ^\u001b[0m\n\u001b[1;31mSyntaxError\u001b[0m\u001b[1;31m:\u001b[0m invalid syntax\n"
     ]
    }
   ],
   "source": [
    "jupyter notebook list"
   ]
  }
 ],
 "metadata": {
  "kernelspec": {
   "display_name": "Python 3",
   "language": "python",
   "name": "python3"
  },
  "language_info": {
   "codemirror_mode": {
    "name": "ipython",
    "version": 3
   },
   "file_extension": ".py",
   "mimetype": "text/x-python",
   "name": "python",
   "nbconvert_exporter": "python",
   "pygments_lexer": "ipython3",
   "version": "3.6.4"
  }
 },
 "nbformat": 4,
 "nbformat_minor": 2
}
